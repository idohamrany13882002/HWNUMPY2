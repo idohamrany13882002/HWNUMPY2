{
 "cells": [
  {
   "cell_type": "code",
   "execution_count": 1,
   "id": "cf6f0a00-50a7-42a6-92b0-e4658e9f382f",
   "metadata": {},
   "outputs": [
    {
     "name": "stdout",
     "output_type": "stream",
     "text": [
      "Requirement already satisfied: numpy in /opt/anaconda3/lib/python3.12/site-packages (1.26.4)\n"
     ]
    }
   ],
   "source": [
    "!pip install numpy\n",
    "import numpy as np"
   ]
  },
  {
   "cell_type": "markdown",
   "id": "112426e6-78f1-47f5-b687-401765210dc5",
   "metadata": {},
   "source": [
    "### exercise 1"
   ]
  },
  {
   "cell_type": "code",
   "execution_count": 9,
   "id": "9a46ca45-5d05-40af-baaf-78e65928d697",
   "metadata": {},
   "outputs": [
    {
     "data": {
      "text/plain": [
       "array([[ 1,  2,  3,  4],\n",
       "       [ 5,  6,  7,  8],\n",
       "       [ 9, 10, 11, 12],\n",
       "       [13, 14, 15, 16]])"
      ]
     },
     "execution_count": 9,
     "metadata": {},
     "output_type": "execute_result"
    }
   ],
   "source": [
    "answer1 = np.arange(1,17)\n",
    "answer1.reshape(4,4)"
   ]
  },
  {
   "cell_type": "markdown",
   "id": "af17ab7d-c910-4cd6-9efb-0532cb18960c",
   "metadata": {},
   "source": [
    "### exercise 2"
   ]
  },
  {
   "cell_type": "code",
   "execution_count": 21,
   "id": "b0291d66-8053-4c26-9e59-723e89d83564",
   "metadata": {},
   "outputs": [
    {
     "data": {
      "text/plain": [
       "array([[10, 15, 20, 25],\n",
       "       [30, 35, 40, 45]])"
      ]
     },
     "metadata": {},
     "output_type": "display_data"
    }
   ],
   "source": [
    "answer2 = np.arange(10,51,5)\n",
    "answer2.resize (2,4)\n",
    "display(answer2)"
   ]
  },
  {
   "cell_type": "markdown",
   "id": "975ab2ff-e977-410a-bdfb-697d79badf64",
   "metadata": {},
   "source": [
    "### exercise 3"
   ]
  },
  {
   "cell_type": "code",
   "execution_count": 41,
   "id": "7412eebe-c568-4ec7-a65b-af33886f04d3",
   "metadata": {},
   "outputs": [
    {
     "name": "stdout",
     "output_type": "stream",
     "text": [
      "[[38 13 73]\n",
      " [10 76  6]\n",
      " [80 65 17]]\n",
      "max: 80\n",
      "min: 6\n"
     ]
    }
   ],
   "source": [
    "np.random.seed(1)\n",
    "answer3 = np.random.randint (1,101,(3,3))\n",
    "print(answer3)\n",
    "print('max:', answer3.max())\n",
    "print('min:', answer3.min())"
   ]
  },
  {
   "cell_type": "markdown",
   "id": "e3b822e3-19b8-4302-a8e3-58fe0403a231",
   "metadata": {},
   "source": [
    "### exercise 4"
   ]
  },
  {
   "cell_type": "code",
   "execution_count": 67,
   "id": "2a3cf59f-8df4-406b-9ab8-53dbe8c085e1",
   "metadata": {},
   "outputs": [
    {
     "data": {
      "text/plain": [
       "array([ 0,  2,  4,  6,  8, 10, 12, 14, 16, 18])"
      ]
     },
     "metadata": {},
     "output_type": "display_data"
    },
    {
     "data": {
      "text/plain": [
       "array([0, 2, 4, 6, 8])"
      ]
     },
     "metadata": {},
     "output_type": "display_data"
    },
    {
     "data": {
      "text/plain": [
       "array([ 0,  4,  8, 12, 16])"
      ]
     },
     "metadata": {},
     "output_type": "display_data"
    },
    {
     "data": {
      "text/plain": [
       "array([18, 16, 14, 12, 10,  8,  6,  4,  2,  0])"
      ]
     },
     "metadata": {},
     "output_type": "display_data"
    }
   ],
   "source": [
    "answer4 = np.arange(0,20,2)\n",
    "display(answer4)\n",
    "display(answer4[:5])\n",
    "display(answer4[::2])\n",
    "display(answer4[::-1])"
   ]
  },
  {
   "cell_type": "markdown",
   "id": "0a28c617-7b0f-44c5-ad1b-c09d0c74df3d",
   "metadata": {},
   "source": [
    "### exercise 5"
   ]
  },
  {
   "cell_type": "code",
   "execution_count": 79,
   "id": "6eed59b9-6c94-4667-8c26-fc34761e7da0",
   "metadata": {},
   "outputs": [
    {
     "data": {
      "text/plain": [
       "array([[37, 43, 12,  8,  9],\n",
       "       [11,  5, 15,  0, 16],\n",
       "       [ 1, 12,  7, 45,  6],\n",
       "       [25, 50, 20, 37, 18]])"
      ]
     },
     "metadata": {},
     "output_type": "display_data"
    },
    {
     "data": {
      "text/plain": [
       "0"
      ]
     },
     "metadata": {},
     "output_type": "display_data"
    }
   ],
   "source": [
    "np.random.seed(1)\n",
    "answer5 = np.random.randint(0,51,(4,5))\n",
    "display(answer5)\n",
    "display(answer5[1,3])"
   ]
  },
  {
   "cell_type": "markdown",
   "id": "d6d888bf-8b74-4fe1-9700-f02c2840f325",
   "metadata": {},
   "source": [
    "### exercise 6"
   ]
  },
  {
   "cell_type": "code",
   "execution_count": 91,
   "id": "c46b2c27-c3ae-4fbb-813c-a291f4aa8080",
   "metadata": {},
   "outputs": [
    {
     "data": {
      "text/plain": [
       "array([37, 12, 72,  9, 75,  5, 79, 64, 16,  1, 76, 71,  6, 25, 50])"
      ]
     },
     "metadata": {},
     "output_type": "display_data"
    },
    {
     "data": {
      "text/plain": [
       "6"
      ]
     },
     "metadata": {},
     "output_type": "display_data"
    },
    {
     "data": {
      "text/plain": [
       "9"
      ]
     },
     "metadata": {},
     "output_type": "display_data"
    }
   ],
   "source": [
    "np.random.seed(1)\n",
    "answer6 = np.random.randint(0,101,15)\n",
    "display(answer6)\n",
    "display(answer6.argmax())\n",
    "display(answer6.argmin())"
   ]
  }
 ],
 "metadata": {
  "kernelspec": {
   "display_name": "Python 3 (ipykernel)",
   "language": "python",
   "name": "python3"
  },
  "language_info": {
   "codemirror_mode": {
    "name": "ipython",
    "version": 3
   },
   "file_extension": ".py",
   "mimetype": "text/x-python",
   "name": "python",
   "nbconvert_exporter": "python",
   "pygments_lexer": "ipython3",
   "version": "3.12.7"
  }
 },
 "nbformat": 4,
 "nbformat_minor": 5
}
